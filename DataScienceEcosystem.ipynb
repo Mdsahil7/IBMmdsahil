{
 "cells": [
  {
   "cell_type": "markdown",
   "id": "121c247e",
   "metadata": {},
   "source": [
    "# Data Science Tools and Ecosystem"
   ]
  },
  {
   "cell_type": "markdown",
   "id": "c0cbc359",
   "metadata": {},
   "source": [
    "In this notebook, Data Science Tools and Ecosystem are summarized."
   ]
  },
  {
   "cell_type": "markdown",
   "id": "b465cbd3",
   "metadata": {},
   "source": [
    "**Objectives:**\n",
    "\n",
    "* List popular languages for Data Science.\n",
    "* List libraries used by Data Scientists.\n",
    "\n"
   ]
  },
  {
   "cell_type": "markdown",
   "id": "c8a074c0",
   "metadata": {},
   "source": [
    "Some of the popular languages that Data Scientists use are:"
   ]
  },
  {
   "cell_type": "markdown",
   "id": "b548e83b",
   "metadata": {},
   "source": [
    "1. Python\n",
    "1. SQL\n",
    "1. R"
   ]
  },
  {
   "cell_type": "markdown",
   "id": "c713dc5f",
   "metadata": {},
   "source": [
    "Some of the commonly used libraries used by Data Scientists include:"
   ]
  },
  {
   "cell_type": "markdown",
   "id": "8eb14c92",
   "metadata": {},
   "source": [
    "1. TensorFlow\n",
    "1. SciPy\n",
    "1. NumPy\n",
    "1. Pandas"
   ]
  },
  {
   "cell_type": "markdown",
   "id": "2719fe88",
   "metadata": {},
   "source": [
    "| Data Science Tools |\n",
    "| -----------------  |\n",
    "| RStudio            |\n",
    "| Apache Spark       |\n",
    "| TensorFlow         |"
   ]
  },
  {
   "cell_type": "markdown",
   "id": "2d17b6a9",
   "metadata": {},
   "source": [
    "### Below are a few examples of evaluating arithmetic expressions in Python"
   ]
  },
  {
   "cell_type": "code",
   "execution_count": 2,
   "id": "766440c7",
   "metadata": {},
   "outputs": [
    {
     "data": {
      "text/plain": [
       "17"
      ]
     },
     "execution_count": 2,
     "metadata": {},
     "output_type": "execute_result"
    }
   ],
   "source": [
    "(3*4)+5 #This a simple arithmetic expression to mutiply then add integers"
   ]
  },
  {
   "cell_type": "code",
   "execution_count": 4,
   "id": "c5d6f112",
   "metadata": {},
   "outputs": [
    {
     "data": {
      "text/plain": [
       "3.3333333333333335"
      ]
     },
     "execution_count": 4,
     "metadata": {},
     "output_type": "execute_result"
    }
   ],
   "source": [
    "200/60 #This will convert 200 minutes to hours by diving by 60"
   ]
  },
  {
   "cell_type": "markdown",
   "id": "2cb137e8",
   "metadata": {},
   "source": [
    "## Author\n",
    " Md Sahil"
   ]
  },
  {
   "cell_type": "code",
   "execution_count": null,
   "id": "a4acef49",
   "metadata": {},
   "outputs": [],
   "source": []
  }
 ],
 "metadata": {
  "kernelspec": {
   "display_name": "Python 3 (ipykernel)",
   "language": "python",
   "name": "python3"
  },
  "language_info": {
   "codemirror_mode": {
    "name": "ipython",
    "version": 3
   },
   "file_extension": ".py",
   "mimetype": "text/x-python",
   "name": "python",
   "nbconvert_exporter": "python",
   "pygments_lexer": "ipython3",
   "version": "3.9.12"
  }
 },
 "nbformat": 4,
 "nbformat_minor": 5
}
